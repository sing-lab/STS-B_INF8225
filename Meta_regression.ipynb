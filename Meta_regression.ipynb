{
 "cells": [
  {
   "cell_type": "code",
   "execution_count": null,
   "metadata": {},
   "outputs": [],
   "source": [
    "\"\"\"\n",
    "Meta-regression model\n",
    "Uses predictions of various models\n",
    "\"\"\""
   ]
  },
  {
   "cell_type": "code",
   "execution_count": 1,
   "metadata": {
    "_cell_guid": "79c7e3d0-c299-4dcb-8224-4455121ee9b0",
    "_uuid": "d629ff2d2480ee46fbb7e2d37f6b5fab8052498a"
   },
   "outputs": [
    {
     "name": "stderr",
     "output_type": "stream",
     "text": [
      "Using TensorFlow backend.\n",
      "C:\\Program Files\\Python\\lib\\site-packages\\tensorflow\\python\\framework\\dtypes.py:516: FutureWarning: Passing (type, 1) or '1type' as a synonym of type is deprecated; in a future version of numpy, it will be understood as (type, (1,)) / '(1,)type'.\n",
      "  _np_qint8 = np.dtype([(\"qint8\", np.int8, 1)])\n",
      "C:\\Program Files\\Python\\lib\\site-packages\\tensorflow\\python\\framework\\dtypes.py:517: FutureWarning: Passing (type, 1) or '1type' as a synonym of type is deprecated; in a future version of numpy, it will be understood as (type, (1,)) / '(1,)type'.\n",
      "  _np_quint8 = np.dtype([(\"quint8\", np.uint8, 1)])\n",
      "C:\\Program Files\\Python\\lib\\site-packages\\tensorflow\\python\\framework\\dtypes.py:518: FutureWarning: Passing (type, 1) or '1type' as a synonym of type is deprecated; in a future version of numpy, it will be understood as (type, (1,)) / '(1,)type'.\n",
      "  _np_qint16 = np.dtype([(\"qint16\", np.int16, 1)])\n",
      "C:\\Program Files\\Python\\lib\\site-packages\\tensorflow\\python\\framework\\dtypes.py:519: FutureWarning: Passing (type, 1) or '1type' as a synonym of type is deprecated; in a future version of numpy, it will be understood as (type, (1,)) / '(1,)type'.\n",
      "  _np_quint16 = np.dtype([(\"quint16\", np.uint16, 1)])\n",
      "C:\\Program Files\\Python\\lib\\site-packages\\tensorflow\\python\\framework\\dtypes.py:520: FutureWarning: Passing (type, 1) or '1type' as a synonym of type is deprecated; in a future version of numpy, it will be understood as (type, (1,)) / '(1,)type'.\n",
      "  _np_qint32 = np.dtype([(\"qint32\", np.int32, 1)])\n",
      "C:\\Program Files\\Python\\lib\\site-packages\\tensorflow\\python\\framework\\dtypes.py:525: FutureWarning: Passing (type, 1) or '1type' as a synonym of type is deprecated; in a future version of numpy, it will be understood as (type, (1,)) / '(1,)type'.\n",
      "  np_resource = np.dtype([(\"resource\", np.ubyte, 1)])\n",
      "C:\\Program Files\\Python\\lib\\site-packages\\tensorboard\\compat\\tensorflow_stub\\dtypes.py:541: FutureWarning: Passing (type, 1) or '1type' as a synonym of type is deprecated; in a future version of numpy, it will be understood as (type, (1,)) / '(1,)type'.\n",
      "  _np_qint8 = np.dtype([(\"qint8\", np.int8, 1)])\n",
      "C:\\Program Files\\Python\\lib\\site-packages\\tensorboard\\compat\\tensorflow_stub\\dtypes.py:542: FutureWarning: Passing (type, 1) or '1type' as a synonym of type is deprecated; in a future version of numpy, it will be understood as (type, (1,)) / '(1,)type'.\n",
      "  _np_quint8 = np.dtype([(\"quint8\", np.uint8, 1)])\n",
      "C:\\Program Files\\Python\\lib\\site-packages\\tensorboard\\compat\\tensorflow_stub\\dtypes.py:543: FutureWarning: Passing (type, 1) or '1type' as a synonym of type is deprecated; in a future version of numpy, it will be understood as (type, (1,)) / '(1,)type'.\n",
      "  _np_qint16 = np.dtype([(\"qint16\", np.int16, 1)])\n",
      "C:\\Program Files\\Python\\lib\\site-packages\\tensorboard\\compat\\tensorflow_stub\\dtypes.py:544: FutureWarning: Passing (type, 1) or '1type' as a synonym of type is deprecated; in a future version of numpy, it will be understood as (type, (1,)) / '(1,)type'.\n",
      "  _np_quint16 = np.dtype([(\"quint16\", np.uint16, 1)])\n",
      "C:\\Program Files\\Python\\lib\\site-packages\\tensorboard\\compat\\tensorflow_stub\\dtypes.py:545: FutureWarning: Passing (type, 1) or '1type' as a synonym of type is deprecated; in a future version of numpy, it will be understood as (type, (1,)) / '(1,)type'.\n",
      "  _np_qint32 = np.dtype([(\"qint32\", np.int32, 1)])\n",
      "C:\\Program Files\\Python\\lib\\site-packages\\tensorboard\\compat\\tensorflow_stub\\dtypes.py:550: FutureWarning: Passing (type, 1) or '1type' as a synonym of type is deprecated; in a future version of numpy, it will be understood as (type, (1,)) / '(1,)type'.\n",
      "  np_resource = np.dtype([(\"resource\", np.ubyte, 1)])\n"
     ]
    },
    {
     "ename": "ModuleNotFoundError",
     "evalue": "No module named 'shap'",
     "output_type": "error",
     "traceback": [
      "\u001b[1;31m---------------------------------------------------------------------------\u001b[0m",
      "\u001b[1;31mModuleNotFoundError\u001b[0m                       Traceback (most recent call last)",
      "\u001b[1;32m<ipython-input-1-28f5c560c373>\u001b[0m in \u001b[0;36m<module>\u001b[1;34m\u001b[0m\n\u001b[0;32m     14\u001b[0m \u001b[1;32mimport\u001b[0m \u001b[0mjoblib\u001b[0m\u001b[1;33m\u001b[0m\u001b[1;33m\u001b[0m\u001b[0m\n\u001b[0;32m     15\u001b[0m \u001b[1;32mimport\u001b[0m \u001b[0mtensorflow\u001b[0m \u001b[1;32mas\u001b[0m \u001b[0mtf\u001b[0m\u001b[1;33m\u001b[0m\u001b[1;33m\u001b[0m\u001b[0m\n\u001b[1;32m---> 16\u001b[1;33m \u001b[1;32mimport\u001b[0m \u001b[0mshap\u001b[0m\u001b[1;33m\u001b[0m\u001b[1;33m\u001b[0m\u001b[0m\n\u001b[0m\u001b[0;32m     17\u001b[0m \u001b[0mshap\u001b[0m\u001b[1;33m.\u001b[0m\u001b[0minitjs\u001b[0m\u001b[1;33m(\u001b[0m\u001b[1;33m)\u001b[0m\u001b[1;33m\u001b[0m\u001b[1;33m\u001b[0m\u001b[0m\n",
      "\u001b[1;31mModuleNotFoundError\u001b[0m: No module named 'shap'"
     ]
    }
   ],
   "source": [
    "import numpy as np\n",
    "import pandas as pd\n",
    "import os\n",
    "from sklearn.pipeline import make_pipeline\n",
    "from loader import loader_train, loader_test, train_validation_split\n",
    "from transforms import MinEditDistance, Vectorizer, LemmaTransform, FuncTransform, Mixor, \\\n",
    "                        SynonymTransform, POSTransform, BaseTransform, ProcessingVocab, \\\n",
    "                        EmbeddingTransform, TokenTransform, EncoderTransform, BERTProcessing\n",
    "from models import BowModel, CosineSimilarity, build_matrix, SiameseLSTM, BERTModel, MLPEstimator\n",
    "from evaluation import evaluate_model, spearman_measure\n",
    "from sklearn.model_selection import train_test_split\n",
    "from sklearn.linear_model import LinearRegression\n",
    "from sklearn.decomposition import TruncatedSVD\n",
    "import joblib\n",
    "import tensorflow as tf\n",
    "import shap\n",
    "shap.initjs()"
   ]
  },
  {
   "cell_type": "code",
   "execution_count": null,
   "metadata": {},
   "outputs": [],
   "source": [
    "def compute_basic_features(dfX):\n",
    "    \"\"\"Compute predictions for the most basic models (those that don't need any label)\"\"\"\n",
    "    features = ['Counts_CS', 'TFIDF_CS', 'TFIDF_MLP', 'W2V_sum_CS',\n",
    "            'POS_TFIDF_CS', 'Syn_Counts_CS', 'Syn_TFIDF_CS', 'Lemmas_Counts_CS', \n",
    "            'Lemmas_TFIDF_CS', 'POS_IMED', 'IMED']\n",
    "    df_features = pd.DataFrame([], columns=features, index=dfX.index)\n",
    "    df_features['Counts_CS'] = BowModel(ponderation='count').predict(dfX)\n",
    "    df_features['TFIDF_CS'] = BowModel(ponderation='tfidf').predict(dfX)\n",
    "    df_features['POS_TFIDF_CS'] = make_pipeline(POSTransform(tags_only=True, join_labels=True), \n",
    "                                                Vectorizer(ponderation='tfidf'), \n",
    "                                                CosineSimilarity()).predict(dfX)\n",
    "    df_features['Syn_Counts_CS'] = make_pipeline(SynonymTransform(),\n",
    "                                                 Vectorizer(ponderation='count'), \n",
    "                                                 CosineSimilarity()).predict(dfX)\n",
    "    df_features['Syn_TFIDF_CS'] = make_pipeline(SynonymTransform(),\n",
    "                                                Vectorizer(ponderation='tfidf'), \n",
    "                                                CosineSimilarity()).predict(dfX)\n",
    "    df_features['Lemmas_Counts_CS'] = make_pipeline(LemmaTransform(),\n",
    "                                                Vectorizer(ponderation='count'), \n",
    "                                                CosineSimilarity()).predict(dfX)\n",
    "    df_features['Lemmas_TFIDF_CS'] = make_pipeline(LemmaTransform(),\n",
    "                                               Vectorizer(ponderation='tfidf'), \n",
    "                                                CosineSimilarity()).predict(dfX)\n",
    "    df_features['IMED'] = make_pipeline(MinEditDistance(), \n",
    "                                        FuncTransform(lambda x:1/(1+np.sqrt(x)))).transform(dfX)\n",
    "    df_features['POS_IMED'] = make_pipeline(POSTransform(tags_only=True, join_labels=True), MinEditDistance(),\n",
    "                                            FuncTransform(lambda x:1/(1+np.sqrt(x)))).transform(dfX)\n",
    "    df_features['W2V_sum_CS'] = make_pipeline(TokenTransform(), EmbeddingTransform(method=sum), \n",
    "                                              CosineSimilarity()).predict(dfX)\n",
    "    return df_features"
   ]
  },
  {
   "cell_type": "markdown",
   "metadata": {},
   "source": [
    "# Load data"
   ]
  },
  {
   "cell_type": "code",
   "execution_count": null,
   "metadata": {},
   "outputs": [],
   "source": [
    "# Load the same data from the previous predictions\n",
    "dfX_train = joblib.load('data/dfX_train.dump')\n",
    "dfX_val = joblib.load('data/dfX_val.dump')\n",
    "y_train = joblib.load('data/y_train.dump')/5 # normalization\n",
    "y_val = joblib.load('data/y_val.dump')/5 # normalization\n",
    "dfX, y = loader_train()\n",
    "vocab = ProcessingVocab(dfX).voc()\n",
    "dfX_test = loader_test()"
   ]
  },
  {
   "cell_type": "markdown",
   "metadata": {},
   "source": [
    "# Train individual regressors"
   ]
  },
  {
   "cell_type": "markdown",
   "metadata": {},
   "source": [
    "### MLP model"
   ]
  },
  {
   "cell_type": "code",
   "execution_count": null,
   "metadata": {},
   "outputs": [],
   "source": [
    "MLP_model = make_pipeline(Vectorizer(ponderation='tfidf'), Mixor(method='sum'),\n",
    "                                            TruncatedSVD(n_components=1000), MLPEstimator())"
   ]
  },
  {
   "cell_type": "code",
   "execution_count": 23,
   "metadata": {},
   "outputs": [
    {
     "name": "stdout",
     "output_type": "stream",
     "text": [
      "Train on 3635 samples, validate on 642 samples\n",
      "Epoch 1/20\n",
      "3635/3635 [==============================] - 1s 313us/step - loss: 0.1474 - mse: 0.1474 - val_loss: 0.0745 - val_mse: 0.0745\n",
      "Epoch 2/20\n",
      " 864/3635 [======>.......................] - ETA: 0s - loss: 0.0683 - mse: 0.0683"
     ]
    },
    {
     "name": "stderr",
     "output_type": "stream",
     "text": [
      "C:\\Program Files\\Python\\lib\\site-packages\\keras\\callbacks\\callbacks.py:846: RuntimeWarning: Early stopping conditioned on metric `val_accuracy` which is not available. Available metrics are: val_loss,val_mse,loss,mse\n",
      "  (self.monitor, ','.join(list(logs.keys()))), RuntimeWarning\n"
     ]
    },
    {
     "name": "stdout",
     "output_type": "stream",
     "text": [
      "3635/3635 [==============================] - 1s 192us/step - loss: 0.0665 - mse: 0.0665 - val_loss: 0.0713 - val_mse: 0.0713\n",
      "Epoch 3/20\n",
      "3635/3635 [==============================] - 1s 193us/step - loss: 0.0539 - mse: 0.0539 - val_loss: 0.0710 - val_mse: 0.0710\n",
      "Epoch 4/20\n",
      "3635/3635 [==============================] - 1s 197us/step - loss: 0.0449 - mse: 0.0449 - val_loss: 0.0737 - val_mse: 0.0737\n",
      "Epoch 5/20\n",
      "3635/3635 [==============================] - 1s 186us/step - loss: 0.0365 - mse: 0.0365 - val_loss: 0.0762 - val_mse: 0.0762\n",
      "Epoch 6/20\n",
      "3635/3635 [==============================] - 1s 184us/step - loss: 0.0281 - mse: 0.0281 - val_loss: 0.0803 - val_mse: 0.0803\n",
      "Epoch 7/20\n",
      "3635/3635 [==============================] - 1s 187us/step - loss: 0.0204 - mse: 0.0204 - val_loss: 0.0822 - val_mse: 0.0822\n",
      "Epoch 8/20\n",
      "3635/3635 [==============================] - 1s 190us/step - loss: 0.0143 - mse: 0.0143 - val_loss: 0.0840 - val_mse: 0.0840\n",
      "Epoch 9/20\n",
      "3635/3635 [==============================] - 1s 188us/step - loss: 0.0105 - mse: 0.0105 - val_loss: 0.0858 - val_mse: 0.0858\n",
      "Epoch 10/20\n",
      "3635/3635 [==============================] - 1s 185us/step - loss: 0.0084 - mse: 0.0084 - val_loss: 0.0874 - val_mse: 0.0874\n",
      "Epoch 11/20\n",
      "3635/3635 [==============================] - 1s 189us/step - loss: 0.0068 - mse: 0.0068 - val_loss: 0.0879 - val_mse: 0.0879\n",
      "Epoch 12/20\n",
      "3635/3635 [==============================] - 1s 194us/step - loss: 0.0072 - mse: 0.0072 - val_loss: 0.0873 - val_mse: 0.0873\n",
      "Epoch 13/20\n",
      "3635/3635 [==============================] - 1s 195us/step - loss: 0.0065 - mse: 0.0065 - val_loss: 0.0889 - val_mse: 0.0889\n",
      "Epoch 14/20\n",
      "3635/3635 [==============================] - 1s 196us/step - loss: 0.0059 - mse: 0.0059 - val_loss: 0.0879 - val_mse: 0.0879\n",
      "Epoch 15/20\n",
      "3635/3635 [==============================] - 1s 191us/step - loss: 0.0055 - mse: 0.0055 - val_loss: 0.0905 - val_mse: 0.0905\n",
      "Epoch 16/20\n",
      "3635/3635 [==============================] - 1s 194us/step - loss: 0.0055 - mse: 0.0055 - val_loss: 0.0893 - val_mse: 0.0893\n",
      "Epoch 17/20\n",
      "3635/3635 [==============================] - 1s 196us/step - loss: 0.0052 - mse: 0.0052 - val_loss: 0.0880 - val_mse: 0.0880\n",
      "Epoch 18/20\n",
      "3635/3635 [==============================] - 1s 202us/step - loss: 0.0044 - mse: 0.0044 - val_loss: 0.0873 - val_mse: 0.0873\n",
      "Epoch 19/20\n",
      "3635/3635 [==============================] - 1s 195us/step - loss: 0.0044 - mse: 0.0044 - val_loss: 0.0905 - val_mse: 0.0905\n",
      "Epoch 20/20\n",
      "3635/3635 [==============================] - 1s 199us/step - loss: 0.0040 - mse: 0.0040 - val_loss: 0.0883 - val_mse: 0.0883\n"
     ]
    }
   ],
   "source": [
    "MLP_model.fit(dfX_train, y_train)\n",
    "y_pred_MLP_val = MLP_model.predict(dfX_val)\n",
    "y_pred_MLP_test = MLP_model.predict(dfX_test)"
   ]
  },
  {
   "cell_type": "markdown",
   "metadata": {},
   "source": [
    "### LSTM"
   ]
  },
  {
   "cell_type": "code",
   "execution_count": null,
   "metadata": {},
   "outputs": [],
   "source": [
    "fname=\"data/glove-wiki-gigaword-300.txt\"\n",
    "df_embeddings = build_matrix(vocab=vocab, fname=fname)\n",
    "l_seq = 10\n",
    "model_lstm = make_pipeline(TokenTransform(),\n",
    "                           EncoderTransform(vocab=vocab, l_seq=l_seq), \n",
    "                           SiameseLSTM(df_embeddings))"
   ]
  },
  {
   "cell_type": "code",
   "execution_count": 32,
   "metadata": {},
   "outputs": [
    {
     "name": "stdout",
     "output_type": "stream",
     "text": [
      "Train on 3849 samples, validate on 428 samples\n",
      "Epoch 1/25\n",
      "3849/3849 [==============================] - 9s 2ms/step - loss: 0.0619 - accuracy: 0.1003 - val_loss: 0.0846 - val_accuracy: 0.0864\n",
      "Epoch 2/25\n",
      "3849/3849 [==============================] - 4s 1ms/step - loss: 0.0469 - accuracy: 0.1057 - val_loss: 0.0771 - val_accuracy: 0.0935\n",
      "Epoch 3/25\n",
      "3849/3849 [==============================] - 4s 1ms/step - loss: 0.0390 - accuracy: 0.1112 - val_loss: 0.0710 - val_accuracy: 0.0935\n",
      "Epoch 4/25\n",
      "3849/3849 [==============================] - 4s 1ms/step - loss: 0.0342 - accuracy: 0.1104 - val_loss: 0.0636 - val_accuracy: 0.0981\n",
      "Epoch 5/25\n",
      "3849/3849 [==============================] - 4s 1ms/step - loss: 0.0300 - accuracy: 0.1117 - val_loss: 0.0671 - val_accuracy: 0.0958\n",
      "Epoch 6/25\n",
      "3849/3849 [==============================] - 4s 1ms/step - loss: 0.0270 - accuracy: 0.1117 - val_loss: 0.0613 - val_accuracy: 0.0958\n",
      "Epoch 7/25\n",
      "3849/3849 [==============================] - 4s 1ms/step - loss: 0.0248 - accuracy: 0.1122 - val_loss: 0.0664 - val_accuracy: 0.0958\n",
      "Epoch 8/25\n",
      "3849/3849 [==============================] - 4s 1ms/step - loss: 0.0235 - accuracy: 0.1125 - val_loss: 0.0629 - val_accuracy: 0.0981\n",
      "Epoch 9/25\n",
      "3849/3849 [==============================] - 4s 1ms/step - loss: 0.0211 - accuracy: 0.1125 - val_loss: 0.0594 - val_accuracy: 0.1005\n",
      "Epoch 10/25\n",
      "3849/3849 [==============================] - 4s 1ms/step - loss: 0.0198 - accuracy: 0.1125 - val_loss: 0.0607 - val_accuracy: 0.0981\n",
      "Epoch 11/25\n",
      "3849/3849 [==============================] - 4s 1ms/step - loss: 0.0187 - accuracy: 0.1125 - val_loss: 0.0575 - val_accuracy: 0.1005\n",
      "Epoch 12/25\n",
      "3849/3849 [==============================] - 4s 1ms/step - loss: 0.0175 - accuracy: 0.1125 - val_loss: 0.0610 - val_accuracy: 0.0958\n",
      "Epoch 13/25\n",
      "3849/3849 [==============================] - 4s 1ms/step - loss: 0.0169 - accuracy: 0.1125 - val_loss: 0.0565 - val_accuracy: 0.0958\n",
      "Epoch 14/25\n",
      "3849/3849 [==============================] - 4s 1ms/step - loss: 0.0157 - accuracy: 0.1122 - val_loss: 0.0591 - val_accuracy: 0.0981\n",
      "Epoch 15/25\n",
      "3849/3849 [==============================] - 4s 1ms/step - loss: 0.0152 - accuracy: 0.1125 - val_loss: 0.0571 - val_accuracy: 0.0981\n",
      "Epoch 16/25\n",
      "3849/3849 [==============================] - 5s 1ms/step - loss: 0.0146 - accuracy: 0.1125 - val_loss: 0.0575 - val_accuracy: 0.0981\n"
     ]
    }
   ],
   "source": [
    "model_lstm.fit(dfX_train, y_train)\n",
    "y_lstm_val = model_lstm.predict(dfX_val)\n",
    "y_lstm_test = model_lstm.predict(dfX_test)"
   ]
  },
  {
   "cell_type": "code",
   "execution_count": 25,
   "metadata": {},
   "outputs": [],
   "source": [
    "y_bert_val = joblib.load('data/pred_bert_large_val.dump') # BERT model\n",
    "y_bert_test = joblib.load('data/pred_bert_large_test.dump')\n",
    "y_xlnet_val = joblib.load('data/pred_xlnet_large_val.dump') # XLNet model\n",
    "y_xlnet_test = joblib.load('data/pred_xlnet_large_test.dump')"
   ]
  },
  {
   "cell_type": "markdown",
   "metadata": {},
   "source": [
    "# Build predictions"
   ]
  },
  {
   "cell_type": "markdown",
   "metadata": {},
   "source": [
    "### Validation set"
   ]
  },
  {
   "cell_type": "code",
   "execution_count": null,
   "metadata": {},
   "outputs": [],
   "source": [
    "df_features  = compute_basic_features(dfX_val)\n",
    "df_features['TFIDF_MLP'] = y_pred_MLP_val\n",
    "df_features['siamese-LSTM'] = y_lstm_val\n",
    "df_features['BERT-Large'] = y_bert_val\n",
    "df_features['BERT-Large'] /= 5\n",
    "df_features['XLNet-Large'] = y_xlnet_val\n",
    "df_features['XLNet-Large'] /= 5"
   ]
  },
  {
   "cell_type": "markdown",
   "metadata": {},
   "source": [
    "### Test set"
   ]
  },
  {
   "cell_type": "code",
   "execution_count": null,
   "metadata": {},
   "outputs": [],
   "source": [
    "df_features_test = compute_basic_features(dfX_test)\n",
    "df_features_test['TFIDF_MLP'] = y_MLP_test\n",
    "df_features_test['siamese-LSTM'] = y_lstm_test\n",
    "df_features_test['BERT-Large'] = y_bert_test\n",
    "df_features_test['BERT-Large'] /= 5\n",
    "df_features_test['XLNet-Large'] = y_xlnet_test\n",
    "df_features_test['XLNet-Large'] /= 5"
   ]
  },
  {
   "cell_type": "markdown",
   "metadata": {},
   "source": [
    "# Meta-Regression"
   ]
  },
  {
   "cell_type": "code",
   "execution_count": 54,
   "metadata": {},
   "outputs": [],
   "source": [
    "metaregressor = LinearRegression()\n",
    "metaregressor.fit(df_features, y_val)\n",
    "y_final =  metaregressor.predict(df_features_test)"
   ]
  },
  {
   "cell_type": "markdown",
   "metadata": {},
   "source": [
    "# Explicability"
   ]
  },
  {
   "cell_type": "code",
   "execution_count": 58,
   "metadata": {},
   "outputs": [],
   "source": [
    "# Wich model participates the most into thoses results\n",
    "explainer = shap.KernelExplainer(metaregressor.predict, \n",
    "                                 df_features[:200], session=tf.compat.v1.keras.backend.get_session())"
   ]
  },
  {
   "cell_type": "code",
   "execution_count": 61,
   "metadata": {},
   "outputs": [
    {
     "data": {
      "application/vnd.jupyter.widget-view+json": {
       "model_id": "0c47dbcf337a4b8ebfba67fe2cf7503d",
       "version_major": 2,
       "version_minor": 0
      },
      "text/plain": [
       "HBox(children=(IntProgress(value=0, max=30), HTML(value='')))"
      ]
     },
     "metadata": {},
     "output_type": "display_data"
    },
    {
     "name": "stderr",
     "output_type": "stream",
     "text": [
      "/opt/conda/lib/python3.6/site-packages/shap/explainers/kernel.py:555: UserWarning: l1_reg=\"auto\" is deprecated and in the next version (v0.29) the behavior will change from a conditional use of AIC to simply \"num_features(10)\"!\n",
      "  \"l1_reg=\\\"auto\\\" is deprecated and in the next version (v0.29) the behavior will change from a \" \\\n",
      "/opt/conda/lib/python3.6/site-packages/shap/explainers/kernel.py:555: UserWarning: l1_reg=\"auto\" is deprecated and in the next version (v0.29) the behavior will change from a conditional use of AIC to simply \"num_features(10)\"!\n",
      "  \"l1_reg=\\\"auto\\\" is deprecated and in the next version (v0.29) the behavior will change from a \" \\\n",
      "/opt/conda/lib/python3.6/site-packages/shap/explainers/kernel.py:555: UserWarning: l1_reg=\"auto\" is deprecated and in the next version (v0.29) the behavior will change from a conditional use of AIC to simply \"num_features(10)\"!\n",
      "  \"l1_reg=\\\"auto\\\" is deprecated and in the next version (v0.29) the behavior will change from a \" \\\n",
      "/opt/conda/lib/python3.6/site-packages/shap/explainers/kernel.py:555: UserWarning: l1_reg=\"auto\" is deprecated and in the next version (v0.29) the behavior will change from a conditional use of AIC to simply \"num_features(10)\"!\n",
      "  \"l1_reg=\\\"auto\\\" is deprecated and in the next version (v0.29) the behavior will change from a \" \\\n",
      "/opt/conda/lib/python3.6/site-packages/shap/explainers/kernel.py:555: UserWarning: l1_reg=\"auto\" is deprecated and in the next version (v0.29) the behavior will change from a conditional use of AIC to simply \"num_features(10)\"!\n",
      "  \"l1_reg=\\\"auto\\\" is deprecated and in the next version (v0.29) the behavior will change from a \" \\\n",
      "/opt/conda/lib/python3.6/site-packages/shap/explainers/kernel.py:555: UserWarning: l1_reg=\"auto\" is deprecated and in the next version (v0.29) the behavior will change from a conditional use of AIC to simply \"num_features(10)\"!\n",
      "  \"l1_reg=\\\"auto\\\" is deprecated and in the next version (v0.29) the behavior will change from a \" \\\n",
      "/opt/conda/lib/python3.6/site-packages/shap/explainers/kernel.py:555: UserWarning: l1_reg=\"auto\" is deprecated and in the next version (v0.29) the behavior will change from a conditional use of AIC to simply \"num_features(10)\"!\n",
      "  \"l1_reg=\\\"auto\\\" is deprecated and in the next version (v0.29) the behavior will change from a \" \\\n",
      "/opt/conda/lib/python3.6/site-packages/shap/explainers/kernel.py:555: UserWarning: l1_reg=\"auto\" is deprecated and in the next version (v0.29) the behavior will change from a conditional use of AIC to simply \"num_features(10)\"!\n",
      "  \"l1_reg=\\\"auto\\\" is deprecated and in the next version (v0.29) the behavior will change from a \" \\\n",
      "/opt/conda/lib/python3.6/site-packages/shap/explainers/kernel.py:555: UserWarning: l1_reg=\"auto\" is deprecated and in the next version (v0.29) the behavior will change from a conditional use of AIC to simply \"num_features(10)\"!\n",
      "  \"l1_reg=\\\"auto\\\" is deprecated and in the next version (v0.29) the behavior will change from a \" \\\n",
      "/opt/conda/lib/python3.6/site-packages/shap/explainers/kernel.py:555: UserWarning: l1_reg=\"auto\" is deprecated and in the next version (v0.29) the behavior will change from a conditional use of AIC to simply \"num_features(10)\"!\n",
      "  \"l1_reg=\\\"auto\\\" is deprecated and in the next version (v0.29) the behavior will change from a \" \\\n",
      "/opt/conda/lib/python3.6/site-packages/shap/explainers/kernel.py:555: UserWarning: l1_reg=\"auto\" is deprecated and in the next version (v0.29) the behavior will change from a conditional use of AIC to simply \"num_features(10)\"!\n",
      "  \"l1_reg=\\\"auto\\\" is deprecated and in the next version (v0.29) the behavior will change from a \" \\\n",
      "/opt/conda/lib/python3.6/site-packages/shap/explainers/kernel.py:555: UserWarning: l1_reg=\"auto\" is deprecated and in the next version (v0.29) the behavior will change from a conditional use of AIC to simply \"num_features(10)\"!\n",
      "  \"l1_reg=\\\"auto\\\" is deprecated and in the next version (v0.29) the behavior will change from a \" \\\n",
      "/opt/conda/lib/python3.6/site-packages/shap/explainers/kernel.py:555: UserWarning: l1_reg=\"auto\" is deprecated and in the next version (v0.29) the behavior will change from a conditional use of AIC to simply \"num_features(10)\"!\n",
      "  \"l1_reg=\\\"auto\\\" is deprecated and in the next version (v0.29) the behavior will change from a \" \\\n",
      "/opt/conda/lib/python3.6/site-packages/shap/explainers/kernel.py:555: UserWarning: l1_reg=\"auto\" is deprecated and in the next version (v0.29) the behavior will change from a conditional use of AIC to simply \"num_features(10)\"!\n",
      "  \"l1_reg=\\\"auto\\\" is deprecated and in the next version (v0.29) the behavior will change from a \" \\\n",
      "/opt/conda/lib/python3.6/site-packages/shap/explainers/kernel.py:555: UserWarning: l1_reg=\"auto\" is deprecated and in the next version (v0.29) the behavior will change from a conditional use of AIC to simply \"num_features(10)\"!\n",
      "  \"l1_reg=\\\"auto\\\" is deprecated and in the next version (v0.29) the behavior will change from a \" \\\n",
      "/opt/conda/lib/python3.6/site-packages/shap/explainers/kernel.py:555: UserWarning: l1_reg=\"auto\" is deprecated and in the next version (v0.29) the behavior will change from a conditional use of AIC to simply \"num_features(10)\"!\n",
      "  \"l1_reg=\\\"auto\\\" is deprecated and in the next version (v0.29) the behavior will change from a \" \\\n",
      "/opt/conda/lib/python3.6/site-packages/shap/explainers/kernel.py:555: UserWarning: l1_reg=\"auto\" is deprecated and in the next version (v0.29) the behavior will change from a conditional use of AIC to simply \"num_features(10)\"!\n",
      "  \"l1_reg=\\\"auto\\\" is deprecated and in the next version (v0.29) the behavior will change from a \" \\\n",
      "/opt/conda/lib/python3.6/site-packages/shap/explainers/kernel.py:555: UserWarning: l1_reg=\"auto\" is deprecated and in the next version (v0.29) the behavior will change from a conditional use of AIC to simply \"num_features(10)\"!\n",
      "  \"l1_reg=\\\"auto\\\" is deprecated and in the next version (v0.29) the behavior will change from a \" \\\n",
      "/opt/conda/lib/python3.6/site-packages/shap/explainers/kernel.py:555: UserWarning: l1_reg=\"auto\" is deprecated and in the next version (v0.29) the behavior will change from a conditional use of AIC to simply \"num_features(10)\"!\n",
      "  \"l1_reg=\\\"auto\\\" is deprecated and in the next version (v0.29) the behavior will change from a \" \\\n",
      "/opt/conda/lib/python3.6/site-packages/shap/explainers/kernel.py:555: UserWarning: l1_reg=\"auto\" is deprecated and in the next version (v0.29) the behavior will change from a conditional use of AIC to simply \"num_features(10)\"!\n",
      "  \"l1_reg=\\\"auto\\\" is deprecated and in the next version (v0.29) the behavior will change from a \" \\\n",
      "/opt/conda/lib/python3.6/site-packages/shap/explainers/kernel.py:555: UserWarning: l1_reg=\"auto\" is deprecated and in the next version (v0.29) the behavior will change from a conditional use of AIC to simply \"num_features(10)\"!\n",
      "  \"l1_reg=\\\"auto\\\" is deprecated and in the next version (v0.29) the behavior will change from a \" \\\n",
      "/opt/conda/lib/python3.6/site-packages/shap/explainers/kernel.py:555: UserWarning: l1_reg=\"auto\" is deprecated and in the next version (v0.29) the behavior will change from a conditional use of AIC to simply \"num_features(10)\"!\n",
      "  \"l1_reg=\\\"auto\\\" is deprecated and in the next version (v0.29) the behavior will change from a \" \\\n",
      "/opt/conda/lib/python3.6/site-packages/shap/explainers/kernel.py:555: UserWarning: l1_reg=\"auto\" is deprecated and in the next version (v0.29) the behavior will change from a conditional use of AIC to simply \"num_features(10)\"!\n",
      "  \"l1_reg=\\\"auto\\\" is deprecated and in the next version (v0.29) the behavior will change from a \" \\\n",
      "/opt/conda/lib/python3.6/site-packages/shap/explainers/kernel.py:555: UserWarning: l1_reg=\"auto\" is deprecated and in the next version (v0.29) the behavior will change from a conditional use of AIC to simply \"num_features(10)\"!\n",
      "  \"l1_reg=\\\"auto\\\" is deprecated and in the next version (v0.29) the behavior will change from a \" \\\n",
      "/opt/conda/lib/python3.6/site-packages/shap/explainers/kernel.py:555: UserWarning: l1_reg=\"auto\" is deprecated and in the next version (v0.29) the behavior will change from a conditional use of AIC to simply \"num_features(10)\"!\n",
      "  \"l1_reg=\\\"auto\\\" is deprecated and in the next version (v0.29) the behavior will change from a \" \\\n",
      "/opt/conda/lib/python3.6/site-packages/shap/explainers/kernel.py:555: UserWarning: l1_reg=\"auto\" is deprecated and in the next version (v0.29) the behavior will change from a conditional use of AIC to simply \"num_features(10)\"!\n",
      "  \"l1_reg=\\\"auto\\\" is deprecated and in the next version (v0.29) the behavior will change from a \" \\\n",
      "/opt/conda/lib/python3.6/site-packages/shap/explainers/kernel.py:555: UserWarning: l1_reg=\"auto\" is deprecated and in the next version (v0.29) the behavior will change from a conditional use of AIC to simply \"num_features(10)\"!\n",
      "  \"l1_reg=\\\"auto\\\" is deprecated and in the next version (v0.29) the behavior will change from a \" \\\n",
      "/opt/conda/lib/python3.6/site-packages/shap/explainers/kernel.py:555: UserWarning: l1_reg=\"auto\" is deprecated and in the next version (v0.29) the behavior will change from a conditional use of AIC to simply \"num_features(10)\"!\n",
      "  \"l1_reg=\\\"auto\\\" is deprecated and in the next version (v0.29) the behavior will change from a \" \\\n",
      "/opt/conda/lib/python3.6/site-packages/shap/explainers/kernel.py:555: UserWarning: l1_reg=\"auto\" is deprecated and in the next version (v0.29) the behavior will change from a conditional use of AIC to simply \"num_features(10)\"!\n",
      "  \"l1_reg=\\\"auto\\\" is deprecated and in the next version (v0.29) the behavior will change from a \" \\\n",
      "/opt/conda/lib/python3.6/site-packages/shap/explainers/kernel.py:555: UserWarning: l1_reg=\"auto\" is deprecated and in the next version (v0.29) the behavior will change from a conditional use of AIC to simply \"num_features(10)\"!\n",
      "  \"l1_reg=\\\"auto\\\" is deprecated and in the next version (v0.29) the behavior will change from a \" \\\n"
     ]
    },
    {
     "name": "stdout",
     "output_type": "stream",
     "text": [
      "\n"
     ]
    },
    {
     "data": {
      "image/png": "[encoded data removed]",
      "text/plain": [
       "<Figure size 576x165.6 with 1 Axes>"
      ]
     },
     "metadata": {
      "needs_background": "light"
     },
     "output_type": "display_data"
    }
   ],
   "source": [
    "inds = np.random.choice(df_features_test.shape[0], 30, replace=False)\n",
    "shap_values = explainer.shap_values(df_features_test.iloc[inds])\n",
    "shap.summary_plot(shap_values, df_features_test.iloc[inds], plot_type=\"bar\")"
   ]
  },
  {
   "cell_type": "code",
   "execution_count": 2,
   "metadata": {},
   "outputs": [
    {
     "name": "stderr",
     "output_type": "stream",
     "text": [
      "[NbConvertApp] Converting notebook Meta_regression.ipynb to html\n",
      "[NbConvertApp] Writing 349612 bytes to Meta_regression.html\n"
     ]
    }
   ],
   "source": [
    "!jupyter nbconvert --to html Meta_regression.ipynb"
   ]
  },
  {
   "cell_type": "code",
   "execution_count": null,
   "metadata": {},
   "outputs": [],
   "source": []
  }
 ],
 "metadata": {
  "kernelspec": {
   "display_name": "Python 3",
   "language": "python",
   "name": "python3"
  },
  "language_info": {
   "codemirror_mode": {
    "name": "ipython",
    "version": 3
   },
   "file_extension": ".py",
   "mimetype": "text/x-python",
   "name": "python",
   "nbconvert_exporter": "python",
   "pygments_lexer": "ipython3",
   "version": "3.7.4"
  }
 },
 "nbformat": 4,
 "nbformat_minor": 1
}
